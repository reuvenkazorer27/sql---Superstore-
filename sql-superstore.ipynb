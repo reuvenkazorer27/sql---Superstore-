{
 "cells": [
  {
   "cell_type": "code",
   "execution_count": 1,
   "id": "35b0e655-3a90-47f0-b435-89b67cf484eb",
   "metadata": {
    "tags": []
   },
   "outputs": [
    {
     "data": {
      "text/plain": [
       "9994"
      ]
     },
     "execution_count": 1,
     "metadata": {},
     "output_type": "execute_result"
    }
   ],
   "source": [
    "import pandas as pd\n",
    "import sqlite3\n",
    "\n",
    "csv_file_path = r\"https://raw.github.com/reuvenkazorer27/sql---Superstore-/main/Sample%20-%20Superstore.csv\"\n",
    "df = pd.read_csv(csv_file_path, encoding='ISO-8859-1')\n",
    "conn = sqlite3.connect(':memory:')\n",
    "df.to_sql('superstore', conn, index=False, if_exists='replace')\n"
   ]
  },
  {
   "cell_type": "code",
   "execution_count": 2,
   "id": "50e18554-c264-4542-817e-e54027f66ddd",
   "metadata": {
    "tags": []
   },
   "outputs": [
    {
     "name": "stdout",
     "output_type": "stream",
     "text": [
      "Top Categories by Total Profit:\n",
      "          Category  total_profit profit_percentage\n",
      "0        Furniture    18451.2728              2.5%\n",
      "1  Office Supplies   122490.8008             17.0%\n",
      "2       Technology   145454.9481             17.4%\n",
      "3            Total   286397.0217             12.5%\n",
      "\n",
      "Total Profit for Furniture:\n",
      "  Sub-Category  total_profit profit_percentage\n",
      "1        Total    18451.2728              2.5%\n",
      "\n",
      "Top Subcategories for Furniture:\n",
      "  Sub-Category  total_profit profit_percentage\n",
      "0       Chairs    26590.1663              8.1%\n",
      "2  Furnishings    13059.1436             14.2%\n",
      "3    Bookcases    -3472.5560             -3.0%\n",
      "4       Tables   -17725.4811             -8.6%\n",
      "\n",
      "Total Profit for Office Supplies:\n",
      "  Sub-Category  total_profit profit_percentage\n",
      "0        Total   122490.8008             17.0%\n",
      "\n",
      "Top Subcategories for Office Supplies:\n",
      "  Sub-Category  total_profit profit_percentage\n",
      "1        Paper    34053.5693             43.4%\n",
      "2      Binders    30221.7633             14.9%\n",
      "3      Storage    21278.8264              9.5%\n",
      "4   Appliances    18138.0054             16.9%\n",
      "5    Envelopes     6964.1767             42.3%\n",
      "6          Art     6527.7870             24.1%\n",
      "7       Labels     5546.2540             44.4%\n",
      "8    Fasteners      949.5182             31.4%\n",
      "9     Supplies    -1189.0995             -2.5%\n",
      "\n",
      "Total Profit for Technology:\n",
      "  Sub-Category  total_profit profit_percentage\n",
      "0        Total   145454.9481             17.4%\n",
      "\n",
      "Top Subcategories for Technology:\n",
      "  Sub-Category  total_profit profit_percentage\n",
      "1      Copiers    55617.8249             37.2%\n",
      "2       Phones    44515.7306             13.5%\n",
      "3  Accessories    41936.6357             25.1%\n",
      "4     Machines     3384.7569              1.8%\n",
      "\n",
      "Total Profit for Total:\n",
      "  Sub-Category total_profit profit_percentage\n",
      "0        Total         None              None\n",
      "\n",
      "Top Subcategories for Total:\n",
      "Empty DataFrame\n",
      "Columns: [Sub-Category, total_profit, profit_percentage]\n",
      "Index: []\n"
     ]
    }
   ],
   "source": [
    "top_categories_query = \"\"\"\n",
    "SELECT \n",
    "    Category, \n",
    "    SUM(Profit) AS total_profit,\n",
    "    ROUND(SUM(Profit) / SUM(Sales) * 100, 1) || '%' AS profit_percentage\n",
    "FROM \n",
    "    superstore\n",
    "GROUP BY \n",
    "    Category\n",
    "\n",
    "UNION ALL\n",
    "\n",
    "SELECT \n",
    "    'Total' AS Category,  \n",
    "    SUM(Profit) AS total_profit,\n",
    "    ROUND(SUM(Profit) / SUM(Sales) * 100, 1) || '%' AS profit_percentage\n",
    "FROM \n",
    "    superstore;\n",
    "\"\"\"\n",
    "\n",
    "top_categories = pd.read_sql(top_categories_query, conn)\n",
    "print(\"Top Categories by Total Profit:\")\n",
    "print(top_categories)\n",
    "\n",
    "for index, row in top_categories.iterrows():\n",
    "    category = row['Category']\n",
    "    \n",
    "    # Query for top subcategories\n",
    "    subcategory_query = f\"\"\"\n",
    "    SELECT \n",
    "        [Sub-Category], \n",
    "        SUM(Profit) AS total_profit,\n",
    "        ROUND(SUM(Profit) / SUM(Sales) * 100, 1) || '%' AS profit_percentage\n",
    "    FROM \n",
    "        superstore\n",
    "    WHERE \n",
    "        Category = '{category}'\n",
    "    GROUP BY \n",
    "        [Sub-Category]\n",
    "\n",
    "    UNION ALL\n",
    "\n",
    "    SELECT \n",
    "        'Total' AS [Sub-Category],  \n",
    "        SUM(Profit) AS total_profit,\n",
    "        ROUND(SUM(Profit) / SUM(Sales) * 100, 1) || '%' AS profit_percentage\n",
    "    FROM \n",
    "        superstore\n",
    "    WHERE \n",
    "        Category = '{category}'\n",
    "    ORDER BY\n",
    "        total_profit DESC;\n",
    "    \"\"\"\n",
    "    \n",
    "    top_subcategories = pd.read_sql(subcategory_query, conn)\n",
    "    total_row = top_subcategories[top_subcategories['Sub-Category'] == 'Total']\n",
    "    print(f\"\\nTotal Profit for {category}:\")\n",
    "    print(total_row)\n",
    "\n",
    "    top_subcategories = top_subcategories[top_subcategories['Sub-Category'] != 'Total']\n",
    "    print(f\"\\nTop Subcategories for {category}:\")\n",
    "    print(top_subcategories)"
   ]
  },
  {
   "cell_type": "code",
   "execution_count": 3,
   "id": "2e53c7ce-ba03-4625-9cae-31672fbf1a7d",
   "metadata": {
    "tags": []
   },
   "outputs": [
    {
     "name": "stdout",
     "output_type": "stream",
     "text": [
      "Products with the Most Sales, Profit, and Profit Percentage:\n",
      "                                        Product Name  total_sales  \\\n",
      "0              Canon imageCLASS 2200 Advanced Copier    61599.824   \n",
      "1  Fellowes PB500 Electric Punch Plastic Comb Bin...    27453.384   \n",
      "2  Cisco TelePresence System EX90 Videoconferenci...    22638.480   \n",
      "3       HON 5400 Series Task Chairs for Big and Tall    21870.576   \n",
      "4         GBC DocuBind TL300 Electric Binding System    19823.479   \n",
      "5   GBC Ibimaster 500 Manual ProClick Binding System    19024.500   \n",
      "6               Hewlett Packard LaserJet 3310 Copier    18839.686   \n",
      "7  HP Designjet T520 Inkjet Large Format Printer ...    18374.895   \n",
      "8          GBC DocuBind P400 Electric Binding System    17965.068   \n",
      "9        High Speed Automatic Electric Letter Opener    17030.312   \n",
      "\n",
      "   total_profit profit_percentage  \n",
      "0  2.519993e+04            40.91%  \n",
      "1  7.753039e+03            28.24%  \n",
      "2 -1.811078e+03             -8.0%  \n",
      "3  5.684342e-14              0.0%  \n",
      "4  2.233505e+03            11.27%  \n",
      "5  7.609800e+02              4.0%  \n",
      "6  6.983884e+03            37.07%  \n",
      "7  4.094977e+03            22.29%  \n",
      "8 -1.878166e+03           -10.45%  \n",
      "9 -2.620048e+02            -1.54%  \n"
     ]
    }
   ],
   "source": [
    "top_products_query = \"\"\"\n",
    "SELECT \n",
    "    [Product Name], \n",
    "    SUM(Sales) AS total_sales,\n",
    "    SUM(Profit) AS total_profit,\n",
    "    ROUND(SUM(Profit) / SUM(Sales) * 100, 2) || '%' AS profit_percentage\n",
    "FROM \n",
    "    superstore\n",
    "GROUP BY \n",
    "    [Product Name]\n",
    "ORDER BY \n",
    "    total_sales DESC limit 10;\n",
    "\"\"\"\n",
    "top_products = pd.read_sql(top_products_query, conn)\n",
    "print(\"Products with the Most Sales, Profit, and Profit Percentage:\")\n",
    "print(top_products)"
   ]
  },
  {
   "cell_type": "code",
   "execution_count": 4,
   "id": "169516f7-cb69-406b-800e-40d5a34bd694",
   "metadata": {},
   "outputs": [
    {
     "name": "stdout",
     "output_type": "stream",
     "text": [
      "Cities with the Most Profit, and Profit Percentage:\n",
      "            City  total_profit profit_percentange\n",
      "0  New York City    62036.9837              24.2%\n",
      "1    Los Angeles    30440.7579              17.3%\n",
      "2        Seattle    29156.0967              24.4%\n",
      "3  San Francisco    17507.3854              15.5%\n",
      "4        Detroit    13181.7908              31.1%\n",
      "5      Lafayette    10018.3876              40.0%\n",
      "6        Jackson     7581.6828              30.4%\n",
      "7        Atlanta     6993.6629              40.7%\n",
      "8    Minneapolis     6824.5846              40.5%\n",
      "9      San Diego     6377.1960              13.4%\n"
     ]
    }
   ],
   "source": [
    "top_10_cities = \"\"\"SELECT City,SUM(Profit) as total_profit,ROUND(SUM(Profit) / SUM(Sales) * 100, 1) || '%' AS profit_percentange\n",
    "FROM superstore \n",
    "group by city \n",
    "ORDER BY total_profit desc limit 10\n",
    "    ;\"\"\"\n",
    "topc = pd.read_sql(top_10_cities, conn)\n",
    "print(\"Cities with the Most Profit, and Profit Percentage:\")\n",
    "print(topc)\n"
   ]
  },
  {
   "cell_type": "code",
   "execution_count": 5,
   "id": "b05a6739-3746-4ff4-88b9-68f1f5cc050f",
   "metadata": {
    "tags": []
   },
   "outputs": [
    {
     "name": "stdout",
     "output_type": "stream",
     "text": [
      "Average Discount by Categories:\n",
      "          Category avg_discount\n",
      "0        Furniture       17.39%\n",
      "1  Office Supplies       15.73%\n",
      "2       Technology       13.23%\n",
      "\n",
      "Top 5 Subcategories by Average Discount (for each category):\n",
      "           Category Sub-Category avg_discount\n",
      "0         Furniture       Tables       26.13%\n",
      "1         Furniture    Bookcases       21.11%\n",
      "2         Furniture       Chairs       17.02%\n",
      "3         Furniture  Furnishings       13.83%\n",
      "4   Office Supplies      Binders       37.23%\n",
      "5   Office Supplies   Appliances       16.65%\n",
      "6   Office Supplies    Fasteners         8.2%\n",
      "7   Office Supplies    Envelopes        8.03%\n",
      "8   Office Supplies     Supplies        7.68%\n",
      "9        Technology     Machines       30.61%\n",
      "10       Technology      Copiers       16.18%\n",
      "11       Technology       Phones       15.46%\n",
      "12       Technology  Accessories        7.85%\n",
      "\n",
      "Average Discount by Cities:\n",
      "            City avg_discount\n",
      "0     Romeoville        80.0%\n",
      "1  Missouri City        80.0%\n",
      "2      Deer Park        80.0%\n",
      "3        Abilene        80.0%\n",
      "4      Pensacola        70.0%\n",
      "5   Ormond Beach        70.0%\n",
      "6      Littleton        70.0%\n",
      "7         Elyria        70.0%\n",
      "8          Tyler        64.0%\n",
      "9          Bryan       61.67%\n"
     ]
    }
   ],
   "source": [
    "categories_discount_query = \"\"\"\n",
    "-- Average Discount by Category\n",
    "SELECT \n",
    "    Category, \n",
    "    ROUND(AVG(Discount) * 100, 2) || '%' AS avg_discount\n",
    "FROM \n",
    "    superstore\n",
    "GROUP BY \n",
    "    Category\n",
    "ORDER BY \n",
    "    avg_discount DESC;\n",
    "\"\"\"\n",
    "\n",
    "top_subcategories_discount_query = \"\"\"\n",
    "WITH Subcategory_Discounts AS (\n",
    "    SELECT \n",
    "        [Sub-Category], \n",
    "        Category,\n",
    "        AVG(Discount) AS avg_discount\n",
    "    FROM \n",
    "        superstore\n",
    "    GROUP BY \n",
    "        [Sub-Category], Category\n",
    "),\n",
    "Ranked_Subcategories AS (\n",
    "    SELECT \n",
    "        [Sub-Category],\n",
    "        Category,\n",
    "        ROUND(avg_discount * 100, 2) || '%' AS avg_discount,\n",
    "        ROW_NUMBER() OVER (PARTITION BY Category ORDER BY avg_discount DESC) AS rank\n",
    "    FROM \n",
    "        Subcategory_Discounts\n",
    ")\n",
    "SELECT \n",
    "    Category,\n",
    "    [Sub-Category],\n",
    "    avg_discount\n",
    "FROM \n",
    "    Ranked_Subcategories\n",
    "WHERE \n",
    "    rank <= 5\n",
    "ORDER BY \n",
    "    Category, rank;\n",
    "\"\"\"\n",
    "cities_discount_query = \"\"\"\n",
    "SELECT \n",
    "    City, \n",
    "    ROUND(AVG(Discount) * 100, 2) || '%' AS avg_discount\n",
    "FROM \n",
    "    superstore\n",
    "GROUP BY \n",
    "    City\n",
    "ORDER BY \n",
    "    AVG(Discount) DESC limit 10;\n",
    "\"\"\"\n",
    "categories_discount = pd.read_sql(categories_discount_query, conn)\n",
    "top_subcategories_discount = pd.read_sql(top_subcategories_discount_query, conn)\n",
    "cities_discount = pd.read_sql(cities_discount_query, conn)\n",
    "\n",
    "print(\"Average Discount by Categories:\")\n",
    "print(categories_discount)\n",
    "\n",
    "print(\"\\nTop 5 Subcategories by Average Discount (for each category):\")\n",
    "print(top_subcategories_discount)\n",
    "\n",
    "print(\"\\nAverage Discount by Cities:\")\n",
    "print(cities_discount)"
   ]
  },
  {
   "cell_type": "code",
   "execution_count": 6,
   "id": "3eacc557-8158-4f84-a59c-5e46ec32c360",
   "metadata": {
    "tags": []
   },
   "outputs": [
    {
     "name": "stdout",
     "output_type": "stream",
     "text": [
      "Profit and Profit Percentage by Segment:\n",
      "       Segment  total_profit profit_percentage\n",
      "0     Consumer   134119.2092            11.55%\n",
      "1    Corporate    91979.1340            13.03%\n",
      "2  Home Office    60298.6785            14.03%\n"
     ]
    }
   ],
   "source": [
    "profit_by_segment_query = \"\"\"\n",
    "SELECT \n",
    "    Segment, \n",
    "    SUM(Profit) AS total_profit,\n",
    "    ROUND(SUM(Profit) / SUM(Sales) * 100, 2) || '%' AS profit_percentage\n",
    "FROM \n",
    "    superstore\n",
    "GROUP BY \n",
    "    Segment\n",
    "ORDER BY \n",
    "    total_profit DESC;\n",
    "\"\"\"\n",
    "\n",
    "profit_by_segment = pd.read_sql(profit_by_segment_query, conn)\n",
    "\n",
    "print(\"Profit and Profit Percentage by Segment:\")\n",
    "print(profit_by_segment)\n"
   ]
  },
  {
   "cell_type": "code",
   "execution_count": 7,
   "id": "df87f779-238c-49e1-9c47-afeed2840170",
   "metadata": {
    "tags": []
   },
   "outputs": [
    {
     "name": "stdout",
     "output_type": "stream",
     "text": [
      "Top Years by Total Sales:\n",
      "   Year  Total_Sales\n",
      "0  2017  733215.2552\n",
      "1  2016  609205.5980\n",
      "2  2014  484247.4981\n",
      "3  2015  470532.5090\n"
     ]
    }
   ],
   "source": [
    "sales_by_year_query = \"\"\"\n",
    "SELECT \n",
    "    substr([Order Date], -4, 4) AS Year,\n",
    "    SUM([Sales]) AS Total_Sales\n",
    "FROM \n",
    "    superstore\n",
    "WHERE \n",
    "    [Order Date] IS NOT NULL\n",
    "GROUP BY \n",
    "    Year\n",
    "ORDER BY \n",
    "    Total_Sales DESC;\n",
    "\"\"\"\n",
    "\n",
    "result = pd.read_sql(sales_by_year_query, conn)\n",
    "print(\"Top Years by Total Sales:\")\n",
    "print(result)\n"
   ]
  },
  {
   "cell_type": "code",
   "execution_count": 8,
   "id": "fc306ea6-16f6-452c-b335-1fad6acfed79",
   "metadata": {
    "tags": []
   },
   "outputs": [
    {
     "name": "stdout",
     "output_type": "stream",
     "text": [
      "Top Months by Total Sales:\n",
      "   Month_Name  total_sales\n",
      "0    November  352461.0710\n",
      "1    December  325293.5035\n",
      "2   September  307649.9457\n",
      "3       March  205005.4888\n",
      "4     October  200322.9847\n",
      "5      August  159044.0630\n",
      "6         May  155028.8117\n",
      "7        June  152718.6793\n",
      "8        July  147238.0970\n",
      "9       April  137762.1286\n",
      "10    January   94924.8356\n",
      "11   February   59751.2514\n"
     ]
    }
   ],
   "source": [
    "cursor = conn.cursor()\n",
    "\n",
    "try:\n",
    "    cursor.execute(\"ALTER TABLE superstore ADD COLUMN Order_Date_Formatted DATE\")\n",
    "except sqlite3.OperationalError:\n",
    "    pass  \n",
    "\n",
    "cursor.execute(\"\"\"\n",
    "    UPDATE superstore\n",
    "    SET Order_Date_Formatted = \n",
    "        substr([Order Date], -4, 4) || '-' || \n",
    "        printf('%02d', CAST(substr([Order Date], 1, instr([Order Date], '/') - 1) AS INT)) || '-' ||\n",
    "        printf('%02d', CAST(substr([Order Date], instr([Order Date], '/') + 1, instr(substr([Order Date], instr([Order Date], '/') + 1), '/') - 1) AS INT))\n",
    "\"\"\")\n",
    "conn.commit()\n",
    "top_months_query = \"\"\"\n",
    "SELECT \n",
    "    CASE \n",
    "        WHEN strftime('%m', Order_Date_Formatted) = '01' THEN 'January'\n",
    "        WHEN strftime('%m', Order_Date_Formatted) = '02' THEN 'February'\n",
    "        WHEN strftime('%m', Order_Date_Formatted) = '03' THEN 'March'\n",
    "        WHEN strftime('%m', Order_Date_Formatted) = '04' THEN 'April'\n",
    "        WHEN strftime('%m', Order_Date_Formatted) = '05' THEN 'May'\n",
    "        WHEN strftime('%m', Order_Date_Formatted) = '06' THEN 'June'\n",
    "        WHEN strftime('%m', Order_Date_Formatted) = '07' THEN 'July'\n",
    "        WHEN strftime('%m', Order_Date_Formatted) = '08' THEN 'August'\n",
    "        WHEN strftime('%m', Order_Date_Formatted) = '09' THEN 'September'\n",
    "        WHEN strftime('%m', Order_Date_Formatted) = '10' THEN 'October'\n",
    "        WHEN strftime('%m', Order_Date_Formatted) = '11' THEN 'November'\n",
    "        WHEN strftime('%m', Order_Date_Formatted) = '12' THEN 'December'\n",
    "    END AS Month_Name,  -- Mapping month number to month name\n",
    "    SUM([Sales]) AS total_sales  -- Sum of sales for that month\n",
    "FROM \n",
    "    superstore\n",
    "GROUP BY \n",
    "    Month_Name  -- Grouping by the month name\n",
    "ORDER BY \n",
    "    total_sales DESC;  -- Ordering by total sales in descending order\n",
    "\"\"\"\n",
    "\n",
    "top_months = pd.read_sql(top_months_query, conn)\n",
    "print(\"Top Months by Total Sales:\")\n",
    "print(top_months)\n"
   ]
  },
  {
   "cell_type": "code",
   "execution_count": 9,
   "id": "22c3752b-9ae5-444e-bc46-e4201a5a1cba",
   "metadata": {
    "tags": []
   },
   "outputs": [
    {
     "name": "stdout",
     "output_type": "stream",
     "text": [
      "Order counts by day of the week:\n",
      "     DayName  OrderCount\n",
      "0     Monday        1871\n",
      "1     Friday        1818\n",
      "2     Sunday        1710\n",
      "3   Saturday        1655\n",
      "4   Thursday        1463\n",
      "5    Tuesday        1106\n",
      "6  Wednesday         371\n"
     ]
    }
   ],
   "source": [
    "\n",
    "\n",
    "day_count_query = \"\"\"\n",
    "SELECT \n",
    "    CASE strftime('%w', Order_Date_Formatted)\n",
    "        WHEN '0' THEN 'Sunday'\n",
    "        WHEN '1' THEN 'Monday'\n",
    "        WHEN '2' THEN 'Tuesday'\n",
    "        WHEN '3' THEN 'Wednesday'\n",
    "        WHEN '4' THEN 'Thursday'\n",
    "        WHEN '5' THEN 'Friday'\n",
    "        WHEN '6' THEN 'Saturday'\n",
    "    END AS DayName,\n",
    "    COUNT(*) AS OrderCount\n",
    "FROM \n",
    "    superstore\n",
    "WHERE \n",
    "    Order_Date_Formatted IS NOT NULL\n",
    "GROUP BY \n",
    "    strftime('%w', Order_Date_Formatted)\n",
    "ORDER BY \n",
    "    OrderCount DESC;\n",
    "\"\"\"\n",
    "\n",
    "day_count_result = pd.read_sql_query(day_count_query, conn)\n",
    "\n",
    "print(\"Order counts by day of the week:\")\n",
    "print(day_count_result)"
   ]
  },
  {
   "cell_type": "code",
   "execution_count": 10,
   "id": "f6596e42-ca9e-4523-99f7-36fdec92425f",
   "metadata": {
    "tags": []
   },
   "outputs": [
    {
     "name": "stdout",
     "output_type": "stream",
     "text": [
      "Total difference between Order and Ship:\n",
      "        Ship Mode  Total_Days_Difference\n",
      "0     First Class                 1344.0\n",
      "1    Second Class                  488.0\n",
      "2        Same Day                    0.0\n",
      "3  Standard Class                    NaN\n"
     ]
    }
   ],
   "source": [
    "date_diff_query = \"\"\"\n",
    "SELECT \n",
    "    [Ship Mode],\n",
    "    SUM(\n",
    "        julianday(\n",
    "            substr([Ship Date], -4, 4) || '-' || \n",
    "            substr([Ship Date], 4, 2) || '-' || \n",
    "            substr([Ship Date], 1, 2)\n",
    "        ) - julianday(\n",
    "            substr([Order Date], -4, 4) || '-' || \n",
    "            substr([Order Date], 4, 2) || '-' || \n",
    "            substr([Order Date], 1, 2)\n",
    "        )\n",
    "    ) AS Total_Days_Difference\n",
    "FROM \n",
    "    superstore\n",
    "WHERE \n",
    "    [Order Date] IS NOT NULL \n",
    "    AND [Ship Date] IS NOT NULL\n",
    "GROUP BY \n",
    "    [Ship Mode]\n",
    "ORDER BY \n",
    "    Total_Days_Difference DESC;\n",
    "\n",
    "\"\"\"\n",
    "\n",
    "result = pd.read_sql(date_diff_query, conn)\n",
    "print(\"Total difference between Order and Ship:\")\n",
    "print(result)"
   ]
  },
  {
   "cell_type": "code",
   "execution_count": 11,
   "id": "cf1d4c79-c4cc-43b5-b1c0-6c4240f1e8e3",
   "metadata": {
    "tags": []
   },
   "outputs": [
    {
     "name": "stdout",
     "output_type": "stream",
     "text": [
      "The Average difference between Orders:\n",
      "        Ship Mode  Average_Days_Difference\n",
      "0    Second Class                61.000000\n",
      "1     First Class                51.692308\n",
      "2        Same Day                 0.000000\n",
      "3  Standard Class                      NaN\n"
     ]
    }
   ],
   "source": [
    "average_days_difference_by_ship_mode = \"\"\"\n",
    "SELECT \n",
    "    [Ship Mode],\n",
    "    AVG(\n",
    "        julianday(\n",
    "            substr([Ship Date], -4, 4) || '-' || \n",
    "            substr([Ship Date], 4, 2) || '-' || \n",
    "            substr([Ship Date], 1, 2)\n",
    "        ) - julianday(\n",
    "            substr([Order Date], -4, 4) || '-' || \n",
    "            substr([Order Date], 4, 2) || '-' || \n",
    "            substr([Order Date], 1, 2)\n",
    "        )\n",
    "    ) AS Average_Days_Difference\n",
    "FROM \n",
    "    superstore\n",
    "WHERE \n",
    "    [Order Date] IS NOT NULL AND [Ship Date] IS NOT NULL\n",
    "GROUP BY \n",
    "    [Ship Mode]\n",
    "ORDER BY \n",
    "    Average_Days_Difference DESC;\n",
    "\"\"\"\n",
    "\n",
    "result = pd.read_sql(average_days_difference_by_ship_mode, conn)\n",
    "print(\"The Average difference between Orders:\")\n",
    "print(result)"
   ]
  },
  {
   "cell_type": "code",
   "execution_count": 12,
   "id": "391b8f9d-b51a-4119-8105-fefc5473f0eb",
   "metadata": {
    "tags": []
   },
   "outputs": [
    {
     "name": "stdout",
     "output_type": "stream",
     "text": [
      "Products with more than one price:\n",
      "   Price_Count  Products_With_This_Price_Count\n",
      "0            1                             236\n",
      "1            2                             686\n",
      "2            3                             564\n",
      "3            4                             252\n",
      "4            5                              91\n",
      "5            6                              20\n",
      "6            7                               8\n",
      "7            8                               2\n",
      "8            9                               2\n",
      "9           10                               1\n"
     ]
    }
   ],
   "source": [
    "query = \"\"\"\n",
    "SELECT \n",
    "    Price_Count,  \n",
    "    COUNT(*) AS Products_With_This_Price_Count  \n",
    "FROM (\n",
    "    SELECT \n",
    "        [Product ID],\n",
    "        COUNT(DISTINCT [Sales] / [Quantity]) AS Price_Count \n",
    "    FROM \n",
    "        superstore\n",
    "    GROUP BY \n",
    "        [Product ID]\n",
    ") AS Price_Info\n",
    "GROUP BY \n",
    "    Price_Count\n",
    "ORDER BY \n",
    "    Price_Count;\n",
    "\"\"\"\n",
    "result = pd.read_sql(query, conn)\n",
    "print(\"Products with more than one price:\")\n",
    "print(result)"
   ]
  }
 ],
 "metadata": {
  "kernelspec": {
   "display_name": "Python 3 (ipykernel)",
   "language": "python",
   "name": "python3"
  },
  "language_info": {
   "codemirror_mode": {
    "name": "ipython",
    "version": 3
   },
   "file_extension": ".py",
   "mimetype": "text/x-python",
   "name": "python",
   "nbconvert_exporter": "python",
   "pygments_lexer": "ipython3",
   "version": "3.11.5"
  }
 },
 "nbformat": 4,
 "nbformat_minor": 5
}
